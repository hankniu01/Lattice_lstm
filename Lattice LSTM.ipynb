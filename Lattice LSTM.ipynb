{
 "cells": [
  {
   "cell_type": "markdown",
   "id": "f4d8e7d9",
   "metadata": {},
   "source": [
    "# Chinese NER Using Lattice LSTM   ACL 2018"
   ]
  },
  {
   "cell_type": "markdown",
   "id": "4d82709d",
   "metadata": {},
   "source": [
    "## Main Idea"
   ]
  },
  {
   "cell_type": "markdown",
   "id": "dd197d5c",
   "metadata": {},
   "source": [
    "<img src=\"./model.png\"  width=\"700\" height=\"700\" align=\"bottom\" />"
   ]
  },
  {
   "cell_type": "markdown",
   "id": "af4bae3a",
   "metadata": {},
   "source": [
    "## Outline\n",
    "* Data Processing\n",
    "* Model\n",
    "* Train\n",
    "* Verify & Test"
   ]
  },
  {
   "cell_type": "markdown",
   "id": "54f45f1a",
   "metadata": {},
   "source": [
    "## 1 Data Processing"
   ]
  },
  {
   "cell_type": "markdown",
   "id": "c9724cfc",
   "metadata": {},
   "source": [
    "### data_initialization"
   ]
  },
  {
   "cell_type": "code",
   "execution_count": 39,
   "id": "b8aaeffc",
   "metadata": {},
   "outputs": [],
   "source": [
    "from utils.alphabet import Alphabet\n",
    "from utils.gazetteer import Gazetteer"
   ]
  },
  {
   "cell_type": "code",
   "execution_count": 64,
   "id": "fd276e92",
   "metadata": {},
   "outputs": [],
   "source": [
    "word_alphabet = Alphabet('word')\n",
    "biword_alphabet = Alphabet('biword')\n",
    "char_alphabet = Alphabet('character')\n",
    "label_alphabet = Alphabet('label', True)\n",
    "gaz_alphabet = Alphabet('gaz')"
   ]
  },
  {
   "cell_type": "code",
   "execution_count": 20,
   "id": "3d6d6969",
   "metadata": {},
   "outputs": [],
   "source": [
    "START = \"</s>\"\n",
    "UNKNOWN = \"</unk>\"\n",
    "PADDING = \"</pad>\"\n",
    "NULLKEY = \"-null-\""
   ]
  },
  {
   "cell_type": "markdown",
   "id": "6db2ac56",
   "metadata": {},
   "source": [
    "#### Alphabet"
   ]
  },
  {
   "cell_type": "code",
   "execution_count": 16,
   "id": "6fe97ffb",
   "metadata": {},
   "outputs": [],
   "source": [
    "# vscode"
   ]
  },
  {
   "cell_type": "markdown",
   "id": "1654dd7b",
   "metadata": {},
   "source": [
    "#### build_alphabet"
   ]
  },
  {
   "cell_type": "code",
   "execution_count": 1,
   "id": "fed47635",
   "metadata": {},
   "outputs": [],
   "source": [
    "input_file = './data/demo.train.char'   # train.char, dev.char, test.char"
   ]
  },
  {
   "cell_type": "code",
   "execution_count": 2,
   "id": "3c7228d0",
   "metadata": {},
   "outputs": [],
   "source": [
    "in_lines = open(input_file,'r').readlines()"
   ]
  },
  {
   "cell_type": "code",
   "execution_count": 3,
   "id": "2f1346e3",
   "metadata": {},
   "outputs": [],
   "source": [
    "idx = 0"
   ]
  },
  {
   "cell_type": "code",
   "execution_count": 4,
   "id": "91eb3bd7",
   "metadata": {},
   "outputs": [],
   "source": [
    "line = in_lines[idx]"
   ]
  },
  {
   "cell_type": "code",
   "execution_count": 5,
   "id": "ed4f7b69",
   "metadata": {},
   "outputs": [
    {
     "data": {
      "text/plain": [
       "'陈 B-PER\\n'"
      ]
     },
     "execution_count": 5,
     "metadata": {},
     "output_type": "execute_result"
    }
   ],
   "source": [
    "line"
   ]
  },
  {
   "cell_type": "code",
   "execution_count": 7,
   "id": "966620a9",
   "metadata": {},
   "outputs": [
    {
     "data": {
      "text/plain": [
       "8"
      ]
     },
     "execution_count": 7,
     "metadata": {},
     "output_type": "execute_result"
    }
   ],
   "source": [
    "len(line)"
   ]
  },
  {
   "cell_type": "markdown",
   "id": "580f0897",
   "metadata": {},
   "source": [
    "if len(line) > 2:  排除是空字符的情况"
   ]
  },
  {
   "cell_type": "code",
   "execution_count": 8,
   "id": "42541ee1",
   "metadata": {},
   "outputs": [],
   "source": [
    "pairs = line.strip().split()"
   ]
  },
  {
   "cell_type": "code",
   "execution_count": 9,
   "id": "e9bbb1af",
   "metadata": {},
   "outputs": [
    {
     "data": {
      "text/plain": [
       "['陈', 'B-PER']"
      ]
     },
     "execution_count": 9,
     "metadata": {},
     "output_type": "execute_result"
    }
   ],
   "source": [
    "pairs"
   ]
  },
  {
   "cell_type": "code",
   "execution_count": 10,
   "id": "8a0cdecd",
   "metadata": {},
   "outputs": [],
   "source": [
    "word = pairs[0]"
   ]
  },
  {
   "cell_type": "code",
   "execution_count": 11,
   "id": "39e5dc1f",
   "metadata": {},
   "outputs": [
    {
     "data": {
      "text/plain": [
       "'陈'"
      ]
     },
     "execution_count": 11,
     "metadata": {},
     "output_type": "execute_result"
    }
   ],
   "source": [
    "word"
   ]
  },
  {
   "cell_type": "code",
   "execution_count": 13,
   "id": "419123ba",
   "metadata": {},
   "outputs": [
    {
     "data": {
      "text/plain": [
       "'B-PER'"
      ]
     },
     "execution_count": 13,
     "metadata": {},
     "output_type": "execute_result"
    }
   ],
   "source": [
    "label = pairs[-1]\n",
    "label"
   ]
  },
  {
   "cell_type": "code",
   "execution_count": 17,
   "id": "015da654",
   "metadata": {},
   "outputs": [],
   "source": [
    "label_alphabet.add(label)\n",
    "word_alphabet.add(word)"
   ]
  },
  {
   "cell_type": "markdown",
   "id": "264b7a29",
   "metadata": {},
   "source": [
    "if idx < len(in_lines) - 1 and len(in_lines[idx+1]) > 2:   不是in_line 的最后一个 并且 这个例子不是空字符"
   ]
  },
  {
   "cell_type": "code",
   "execution_count": 18,
   "id": "1fd237ae",
   "metadata": {},
   "outputs": [],
   "source": [
    "biword = word + in_lines[idx+1].strip().split()[0] # bigram"
   ]
  },
  {
   "cell_type": "code",
   "execution_count": 19,
   "id": "e3b2bd67",
   "metadata": {},
   "outputs": [
    {
     "data": {
      "text/plain": [
       "'元 E-PER\\n'"
      ]
     },
     "execution_count": 19,
     "metadata": {},
     "output_type": "execute_result"
    }
   ],
   "source": [
    "in_lines[idx+1]"
   ]
  },
  {
   "cell_type": "markdown",
   "id": "18c148ae",
   "metadata": {},
   "source": [
    "else"
   ]
  },
  {
   "cell_type": "code",
   "execution_count": 21,
   "id": "54ccc628",
   "metadata": {},
   "outputs": [],
   "source": [
    "biword = word + NULLKEY"
   ]
  },
  {
   "cell_type": "code",
   "execution_count": 22,
   "id": "c5daa272",
   "metadata": {},
   "outputs": [],
   "source": [
    "biword_alphabet.add(biword)"
   ]
  },
  {
   "cell_type": "code",
   "execution_count": 24,
   "id": "0e6d80ce",
   "metadata": {},
   "outputs": [],
   "source": [
    "for char in word:\n",
    "    char_alphabet.add(char)"
   ]
  },
  {
   "cell_type": "code",
   "execution_count": 26,
   "id": "8bdb09d0",
   "metadata": {},
   "outputs": [],
   "source": [
    "word_alphabet_size = word_alphabet.size()\n",
    "biword_alphabet_size = biword_alphabet.size()\n",
    "char_alphabet_size = char_alphabet.size()\n",
    "label_alphabet_size = label_alphabet.size()"
   ]
  },
  {
   "cell_type": "code",
   "execution_count": 27,
   "id": "d3de8206",
   "metadata": {},
   "outputs": [],
   "source": [
    "startS = False\n",
    "startB = False"
   ]
  },
  {
   "cell_type": "markdown",
   "id": "eadf3a61",
   "metadata": {},
   "source": [
    "选择编码方式"
   ]
  },
  {
   "cell_type": "code",
   "execution_count": 32,
   "id": "6cea4a0e",
   "metadata": {},
   "outputs": [],
   "source": [
    "for label,_ in label_alphabet.iteritems():\n",
    "    if \"S-\" in label.upper():\n",
    "        startS = True\n",
    "    elif \"B-\" in label.upper():\n",
    "        startB = True\n",
    "if startB:\n",
    "    if startS:\n",
    "        tagScheme = \"BMES\"\n",
    "    else:\n",
    "        tagScheme = \"BIO\""
   ]
  },
  {
   "cell_type": "code",
   "execution_count": null,
   "id": "35ff55d7",
   "metadata": {},
   "outputs": [],
   "source": []
  },
  {
   "cell_type": "markdown",
   "id": "e9de0e0d",
   "metadata": {},
   "source": [
    "#### build_gaz_file"
   ]
  },
  {
   "cell_type": "markdown",
   "id": "dd487007",
   "metadata": {},
   "source": [
    "if gaz_file:  gaz_file = 'data/ctb.50d.vec'"
   ]
  },
  {
   "cell_type": "code",
   "execution_count": 41,
   "id": "4c015a4f",
   "metadata": {},
   "outputs": [],
   "source": [
    "gaz_lower = False"
   ]
  },
  {
   "cell_type": "code",
   "execution_count": 42,
   "id": "a5b10cd0",
   "metadata": {},
   "outputs": [],
   "source": [
    "gaz = Gazetteer(gaz_lower)"
   ]
  },
  {
   "cell_type": "code",
   "execution_count": 36,
   "id": "fdc357cf",
   "metadata": {},
   "outputs": [],
   "source": [
    "gaz_file = 'data/ctb.50d.vec'"
   ]
  },
  {
   "cell_type": "code",
   "execution_count": 37,
   "id": "e999bfa9",
   "metadata": {},
   "outputs": [],
   "source": [
    "fins = open(gaz_file, 'r').readlines()"
   ]
  },
  {
   "cell_type": "code",
   "execution_count": 43,
   "id": "480925a2",
   "metadata": {},
   "outputs": [],
   "source": [
    "fin = fins[0]"
   ]
  },
  {
   "cell_type": "code",
   "execution_count": 44,
   "id": "d5ed411f",
   "metadata": {},
   "outputs": [
    {
     "data": {
      "text/plain": [
       "'</s> 0.008005 0.008839 -0.007661 -0.006556 0.002733 0.006042 0.001882 0.000423 -0.007207 0.004437 -0.008713 0.002499 -0.001503 -0.001914 -0.006631 -0.003764 0.005159 0.006051 0.005938 0.003195 0.003090 -0.007605 -0.008192 0.009939 0.007603 0.006180 -0.001208 0.008031 -0.000990 0.001469 -0.000298 -0.005966 0.002625 -0.002675 -0.007651 0.009508 0.008759 -0.002190 -0.000452 0.001018 -0.007275 -0.008014 0.009109 0.000126 -0.005165 -0.006084 -0.006153 0.003394 0.000403 0.002662 \\n'"
      ]
     },
     "execution_count": 44,
     "metadata": {},
     "output_type": "execute_result"
    }
   ],
   "source": [
    "fin"
   ]
  },
  {
   "cell_type": "code",
   "execution_count": 45,
   "id": "8e2981c1",
   "metadata": {},
   "outputs": [],
   "source": [
    "fin = fin.strip().split()[0]"
   ]
  },
  {
   "cell_type": "markdown",
   "id": "ef3fa940",
   "metadata": {},
   "source": [
    "if fin:"
   ]
  },
  {
   "cell_type": "code",
   "execution_count": 47,
   "id": "51f7105b",
   "metadata": {},
   "outputs": [],
   "source": [
    "gaz.insert(fin, \"one_source\")  # vscode"
   ]
  },
  {
   "cell_type": "code",
   "execution_count": null,
   "id": "bd923ff2",
   "metadata": {},
   "outputs": [],
   "source": []
  },
  {
   "cell_type": "markdown",
   "id": "bd34ee76",
   "metadata": {},
   "source": [
    "#### build_gaz_alphabet"
   ]
  },
  {
   "cell_type": "code",
   "execution_count": 48,
   "id": "a3534fef",
   "metadata": {},
   "outputs": [],
   "source": [
    "input_file = './data/demo.dev.char'"
   ]
  },
  {
   "cell_type": "code",
   "execution_count": 49,
   "id": "5af7addb",
   "metadata": {},
   "outputs": [],
   "source": [
    "in_lines = open(input_file,'r').readlines()"
   ]
  },
  {
   "cell_type": "code",
   "execution_count": 50,
   "id": "2a33c0c6",
   "metadata": {},
   "outputs": [],
   "source": [
    "word_list = []"
   ]
  },
  {
   "cell_type": "markdown",
   "id": "c1cb446c",
   "metadata": {},
   "source": [
    "for line in in_lines:"
   ]
  },
  {
   "cell_type": "code",
   "execution_count": 51,
   "id": "c05501e6",
   "metadata": {},
   "outputs": [],
   "source": [
    "line = in_lines[0]"
   ]
  },
  {
   "cell_type": "code",
   "execution_count": 52,
   "id": "75d4c5ba",
   "metadata": {},
   "outputs": [
    {
     "data": {
      "text/plain": [
       "'上 B-GPE\\n'"
      ]
     },
     "execution_count": 52,
     "metadata": {},
     "output_type": "execute_result"
    }
   ],
   "source": [
    "line"
   ]
  },
  {
   "cell_type": "markdown",
   "id": "47353dc4",
   "metadata": {},
   "source": [
    "if len(line) > 3:"
   ]
  },
  {
   "cell_type": "code",
   "execution_count": 53,
   "id": "7d20bb22",
   "metadata": {},
   "outputs": [],
   "source": [
    "word = line.split()[0]"
   ]
  },
  {
   "cell_type": "code",
   "execution_count": 54,
   "id": "bc3c191e",
   "metadata": {},
   "outputs": [
    {
     "data": {
      "text/plain": [
       "'上'"
      ]
     },
     "execution_count": 54,
     "metadata": {},
     "output_type": "execute_result"
    }
   ],
   "source": [
    "word"
   ]
  },
  {
   "cell_type": "code",
   "execution_count": 55,
   "id": "63b5ad28",
   "metadata": {},
   "outputs": [],
   "source": [
    "word_list.append(word)"
   ]
  },
  {
   "cell_type": "code",
   "execution_count": 56,
   "id": "42f2392e",
   "metadata": {},
   "outputs": [
    {
     "data": {
      "text/plain": [
       "['上']"
      ]
     },
     "execution_count": 56,
     "metadata": {},
     "output_type": "execute_result"
    }
   ],
   "source": [
    "word_list"
   ]
  },
  {
   "cell_type": "markdown",
   "id": "45df2145",
   "metadata": {},
   "source": [
    "else:"
   ]
  },
  {
   "cell_type": "code",
   "execution_count": 57,
   "id": "25204e40",
   "metadata": {},
   "outputs": [],
   "source": [
    "w_length = len(word_list) #说明是一句话结束了"
   ]
  },
  {
   "cell_type": "markdown",
   "id": "88d600d4",
   "metadata": {},
   "source": [
    "for idx in range(w_length):"
   ]
  },
  {
   "cell_type": "code",
   "execution_count": 58,
   "id": "85fa01c2",
   "metadata": {},
   "outputs": [],
   "source": [
    "idx = 0"
   ]
  },
  {
   "cell_type": "code",
   "execution_count": 62,
   "id": "7b2d8c22",
   "metadata": {},
   "outputs": [
    {
     "data": {
      "text/plain": [
       "['上']"
      ]
     },
     "execution_count": 62,
     "metadata": {},
     "output_type": "execute_result"
    }
   ],
   "source": [
    "word_list[idx:]"
   ]
  },
  {
   "cell_type": "code",
   "execution_count": 60,
   "id": "b2d8a26c",
   "metadata": {},
   "outputs": [],
   "source": [
    "matched_entity = gaz.enumerateMatchList(word_list[idx:])   # 寻找是否有entity"
   ]
  },
  {
   "cell_type": "code",
   "execution_count": 61,
   "id": "dbcf2b94",
   "metadata": {},
   "outputs": [
    {
     "data": {
      "text/plain": [
       "[]"
      ]
     },
     "execution_count": 61,
     "metadata": {},
     "output_type": "execute_result"
    }
   ],
   "source": [
    "matched_entity"
   ]
  },
  {
   "cell_type": "code",
   "execution_count": null,
   "id": "33ac90a7",
   "metadata": {},
   "outputs": [],
   "source": []
  },
  {
   "cell_type": "markdown",
   "id": "968785c7",
   "metadata": {},
   "source": [
    "#### fix_alphabet"
   ]
  },
  {
   "cell_type": "code",
   "execution_count": 65,
   "id": "5f206c50",
   "metadata": {},
   "outputs": [],
   "source": [
    "word_alphabet.close()\n",
    "biword_alphabet.close()\n",
    "char_alphabet.close()\n",
    "label_alphabet.close() \n",
    "gaz_alphabet.close()  "
   ]
  },
  {
   "cell_type": "code",
   "execution_count": null,
   "id": "b65cf95e",
   "metadata": {},
   "outputs": [],
   "source": []
  },
  {
   "cell_type": "markdown",
   "id": "936ddc88",
   "metadata": {},
   "source": [
    "## generate_instance_with_gaz"
   ]
  },
  {
   "cell_type": "code",
   "execution_count": 66,
   "id": "45f553b0",
   "metadata": {},
   "outputs": [],
   "source": [
    "input_file = './data/demo.train.char'"
   ]
  },
  {
   "cell_type": "code",
   "execution_count": 67,
   "id": "1d057de3",
   "metadata": {},
   "outputs": [],
   "source": [
    "in_lines = open(input_file,'r').readlines()"
   ]
  },
  {
   "cell_type": "code",
   "execution_count": 69,
   "id": "fca6251d",
   "metadata": {},
   "outputs": [],
   "source": [
    "instence_texts = []\n",
    "instence_Ids = []\n",
    "words = []\n",
    "biwords = []\n",
    "chars = []\n",
    "labels = []\n",
    "word_Ids = []\n",
    "biword_Ids = []\n",
    "char_Ids = []\n",
    "label_Ids = []"
   ]
  },
  {
   "cell_type": "code",
   "execution_count": 70,
   "id": "beaee6ec",
   "metadata": {},
   "outputs": [],
   "source": [
    "idx = 0"
   ]
  },
  {
   "cell_type": "code",
   "execution_count": 71,
   "id": "0d97bf61",
   "metadata": {},
   "outputs": [],
   "source": [
    "line = in_lines[idx]"
   ]
  },
  {
   "cell_type": "code",
   "execution_count": 72,
   "id": "945d901e",
   "metadata": {},
   "outputs": [
    {
     "data": {
      "text/plain": [
       "'陈 B-PER\\n'"
      ]
     },
     "execution_count": 72,
     "metadata": {},
     "output_type": "execute_result"
    }
   ],
   "source": [
    "line"
   ]
  },
  {
   "cell_type": "markdown",
   "id": "478f89c0",
   "metadata": {},
   "source": [
    "if len(line) > 2:"
   ]
  },
  {
   "cell_type": "code",
   "execution_count": 74,
   "id": "10412fa8",
   "metadata": {},
   "outputs": [
    {
     "data": {
      "text/plain": [
       "['陈', 'B-PER']"
      ]
     },
     "execution_count": 74,
     "metadata": {},
     "output_type": "execute_result"
    }
   ],
   "source": [
    "pairs = line.strip().split()\n",
    "pairs"
   ]
  },
  {
   "cell_type": "code",
   "execution_count": 75,
   "id": "19ae86f4",
   "metadata": {},
   "outputs": [],
   "source": [
    "word = pairs[0]\n",
    "label = pairs[-1]"
   ]
  },
  {
   "cell_type": "code",
   "execution_count": 78,
   "id": "a8312043",
   "metadata": {},
   "outputs": [],
   "source": [
    "if idx < len(in_lines) -1 and len(in_lines[idx+1]) > 2:\n",
    "    biword = word + in_lines[idx+1].strip().split()[0]\n",
    "else:\n",
    "    biword = word + NULLKEY"
   ]
  },
  {
   "cell_type": "code",
   "execution_count": 79,
   "id": "01a452a8",
   "metadata": {},
   "outputs": [],
   "source": [
    "biwords.append(biword)\n",
    "words.append(word)\n",
    "labels.append(label)"
   ]
  },
  {
   "cell_type": "code",
   "execution_count": 81,
   "id": "b1eb11b6",
   "metadata": {},
   "outputs": [],
   "source": [
    "# word_Ids.append(word_alphabet.get_index(word)) vscode"
   ]
  },
  {
   "cell_type": "markdown",
   "id": "324dfe32",
   "metadata": {},
   "source": [
    "else:  表示一句话结束"
   ]
  },
  {
   "cell_type": "markdown",
   "id": "cea201b0",
   "metadata": {},
   "source": [
    "if ((max_sent_length < 0) or (len(words) < max_sent_length)) and (len(words)>0):  句子的长度小于最大长度，并且有句子的情况下"
   ]
  },
  {
   "cell_type": "code",
   "execution_count": 82,
   "id": "d6d442f4",
   "metadata": {},
   "outputs": [],
   "source": [
    "## 查找entity\n",
    "gazs = []\n",
    "gaz_Ids = []\n",
    "w_length = len(words)"
   ]
  },
  {
   "cell_type": "code",
   "execution_count": 83,
   "id": "c6a6af73",
   "metadata": {},
   "outputs": [],
   "source": [
    "idx = 0"
   ]
  },
  {
   "cell_type": "code",
   "execution_count": 84,
   "id": "3f30a3a6",
   "metadata": {},
   "outputs": [],
   "source": [
    "matched_list = gaz.enumerateMatchList(words[idx:])\n",
    "matched_length = [len(a) for a in matched_list]"
   ]
  },
  {
   "cell_type": "code",
   "execution_count": 85,
   "id": "d5cfd525",
   "metadata": {},
   "outputs": [],
   "source": [
    "# vscode "
   ]
  },
  {
   "cell_type": "code",
   "execution_count": null,
   "id": "86e0f47f",
   "metadata": {},
   "outputs": [],
   "source": []
  },
  {
   "cell_type": "markdown",
   "id": "df5a7822",
   "metadata": {},
   "source": [
    "### build_word_pretrain_emb"
   ]
  },
  {
   "cell_type": "markdown",
   "id": "a4559c5f",
   "metadata": {},
   "source": [
    "#### build_pretrain_embedding"
   ]
  },
  {
   "cell_type": "code",
   "execution_count": 89,
   "id": "87b8210e",
   "metadata": {},
   "outputs": [],
   "source": [
    "from utils.functions import load_pretrain_emb"
   ]
  },
  {
   "cell_type": "code",
   "execution_count": 92,
   "id": "f0d50fae",
   "metadata": {},
   "outputs": [],
   "source": [
    "import numpy as np"
   ]
  },
  {
   "cell_type": "code",
   "execution_count": 86,
   "id": "cdf973bb",
   "metadata": {},
   "outputs": [],
   "source": [
    "embedding_path = 'data/gigaword_chn.all.a2b.uni.ite50.vec'"
   ]
  },
  {
   "cell_type": "code",
   "execution_count": 87,
   "id": "6f7fa73c",
   "metadata": {},
   "outputs": [],
   "source": [
    "embedd_dict = dict()"
   ]
  },
  {
   "cell_type": "code",
   "execution_count": 90,
   "id": "f1bb27ee",
   "metadata": {},
   "outputs": [],
   "source": [
    "embedd_dict, embedd_dim = load_pretrain_emb(embedding_path)"
   ]
  },
  {
   "cell_type": "code",
   "execution_count": 93,
   "id": "7bd949a3",
   "metadata": {},
   "outputs": [],
   "source": [
    "scale = np.sqrt(3.0 / embedd_dim)"
   ]
  },
  {
   "cell_type": "code",
   "execution_count": 94,
   "id": "68d3fff3",
   "metadata": {},
   "outputs": [
    {
     "data": {
      "text/plain": [
       "0.2449489742783178"
      ]
     },
     "execution_count": 94,
     "metadata": {},
     "output_type": "execute_result"
    }
   ],
   "source": [
    "scale"
   ]
  },
  {
   "cell_type": "code",
   "execution_count": 95,
   "id": "57749cd0",
   "metadata": {},
   "outputs": [],
   "source": [
    "pretrain_emb = np.empty([word_alphabet.size(), embedd_dim])"
   ]
  },
  {
   "cell_type": "code",
   "execution_count": 96,
   "id": "71134800",
   "metadata": {},
   "outputs": [
    {
     "data": {
      "text/plain": [
       "(2, 50)"
      ]
     },
     "execution_count": 96,
     "metadata": {},
     "output_type": "execute_result"
    }
   ],
   "source": [
    "pretrain_emb.shape"
   ]
  },
  {
   "cell_type": "code",
   "execution_count": 97,
   "id": "2db2c226",
   "metadata": {},
   "outputs": [],
   "source": [
    "perfect_match = 0\n",
    "case_match = 0\n",
    "not_match = 0"
   ]
  },
  {
   "cell_type": "code",
   "execution_count": 98,
   "id": "467bf995",
   "metadata": {},
   "outputs": [],
   "source": [
    "# vscode"
   ]
  },
  {
   "cell_type": "code",
   "execution_count": null,
   "id": "06f52d63",
   "metadata": {},
   "outputs": [],
   "source": []
  },
  {
   "cell_type": "markdown",
   "id": "882ad835",
   "metadata": {},
   "source": [
    "# 2 Model"
   ]
  },
  {
   "cell_type": "markdown",
   "id": "235e6b50",
   "metadata": {},
   "source": [
    "#### 定义模型 SeqModel"
   ]
  },
  {
   "cell_type": "markdown",
   "id": "a94aa059",
   "metadata": {},
   "source": [
    "####  BiLSTM \n",
    "  * LatticeLSTM\n",
    "      * MultiInputLSTMCell\n",
    "      * WordLSTMCell\n",
    "    "
   ]
  },
  {
   "cell_type": "markdown",
   "id": "f9550334",
   "metadata": {},
   "source": [
    "#### CRF\n",
    "   * self.transitions "
   ]
  },
  {
   "cell_type": "code",
   "execution_count": 101,
   "id": "8ecc9805",
   "metadata": {},
   "outputs": [],
   "source": [
    "## vscode "
   ]
  },
  {
   "cell_type": "markdown",
   "id": "5f64559a",
   "metadata": {},
   "source": [
    "# 3 Train"
   ]
  },
  {
   "cell_type": "markdown",
   "id": "fd7938d7",
   "metadata": {},
   "source": [
    "##### batchify_with_label 将处理好的数据转化为输入"
   ]
  },
  {
   "cell_type": "code",
   "execution_count": null,
   "id": "7ceec11e",
   "metadata": {},
   "outputs": [],
   "source": [
    "## vscode "
   ]
  },
  {
   "cell_type": "markdown",
   "id": "6ddcf79c",
   "metadata": {},
   "source": [
    "# 4 Verify & Test"
   ]
  },
  {
   "cell_type": "markdown",
   "id": "498c290c",
   "metadata": {},
   "source": []
  },
  {
   "cell_type": "markdown",
   "id": "09803f7b",
   "metadata": {},
   "source": [
    "## Code https://github.com/hankniu01/Lattice_lstm "
   ]
  },
  {
   "cell_type": "code",
   "execution_count": null,
   "id": "aec17766",
   "metadata": {},
   "outputs": [],
   "source": []
  }
 ],
 "metadata": {
  "kernelspec": {
   "display_name": "PYTH",
   "language": "python",
   "name": "pyth"
  },
  "language_info": {
   "codemirror_mode": {
    "name": "ipython",
    "version": 3
   },
   "file_extension": ".py",
   "mimetype": "text/x-python",
   "name": "python",
   "nbconvert_exporter": "python",
   "pygments_lexer": "ipython3",
   "version": "3.9.13"
  }
 },
 "nbformat": 4,
 "nbformat_minor": 5
}
